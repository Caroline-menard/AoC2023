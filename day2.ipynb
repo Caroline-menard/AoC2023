{
 "cells": [
  {
   "cell_type": "code",
   "execution_count": 1,
   "id": "3fed4898-67c1-4735-af25-5874ed7bdf43",
   "metadata": {},
   "outputs": [],
   "source": [
    "with open(\"day2.txt\") as file:\n",
    "    data_original = file.read().split(\"\\n\")"
   ]
  },
  {
   "cell_type": "code",
   "execution_count": null,
   "id": "9ce27d33-8762-4347-a553-2862c8cece96",
   "metadata": {
    "jupyter": {
     "source_hidden": true
    },
    "tags": []
   },
   "outputs": [],
   "source": [
    "data_original = [\"Game 1: 3 blue, 4 red; 1 red, 2 green, 6 blue; 2 green\",\n",
    "\"Game 2: 1 blue, 2 green; 3 green, 4 blue, 1 red; 1 green, 1 blue\",\n",
    "\"Game 3: 8 green, 6 blue, 20 red; 5 blue, 4 red, 13 green; 5 green, 1 red\",\n",
    "\"Game 4: 1 green, 3 red, 6 blue; 3 green, 6 red; 3 green, 15 blue, 14 red\",\n",
    "\"Game 5: 6 red, 1 blue, 3 green; 2 blue, 1 red, 2 green\"]\n"
   ]
  },
  {
   "cell_type": "code",
   "execution_count": 2,
   "id": "6108f3f5-77a4-457b-a37e-3b8b57e339f3",
   "metadata": {},
   "outputs": [],
   "source": [
    "#12 red cubes, 13 green cubes, and 14 blue cubes\n",
    "data = dict()\n",
    "for i in data_original:\n",
    "    data[i.split(\":\")[0]] = i.split(\":\")[1].split(\";\")"
   ]
  },
  {
   "cell_type": "code",
   "execution_count": 3,
   "id": "8a96cb9e-1d70-40d0-a64b-214285ba2f7e",
   "metadata": {},
   "outputs": [
    {
     "name": "stdout",
     "output_type": "stream",
     "text": [
      "CPU times: user 1.22 ms, sys: 12 µs, total: 1.23 ms\n",
      "Wall time: 1.27 ms\n"
     ]
    },
    {
     "data": {
      "text/plain": [
       "2006"
      ]
     },
     "execution_count": 3,
     "metadata": {},
     "output_type": "execute_result"
    }
   ],
   "source": [
    "%%time\n",
    "the_max = {\n",
    "\"red\" :12,\n",
    "\"green\" : 13,\n",
    "\"blue\" : 14,}\n",
    "def count_color(liste):\n",
    "    dict_color = {\"red\":list(),\"green\":list(),\"blue\":list()}\n",
    "    for s in liste:\n",
    "        s = s.split(\",\")\n",
    "        for result in s:\n",
    "            result = result.strip()\n",
    "            n,c =result.split(\" \")\n",
    "            dict_color[c].append(int(n))\n",
    "    return dict_color\n",
    "\n",
    "\n",
    "somme = 0\n",
    "for g,l in data.items():\n",
    "    result = count_color(l)\n",
    "    valid = True\n",
    "    for u,v in result.items():\n",
    "        if max(v)> the_max[u]:\n",
    "            valid = False\n",
    "            break\n",
    "    if  valid:\n",
    "        g = int(g.split(\" \")[-1].strip())\n",
    "        somme+=g\n",
    "somme\n",
    "        \n",
    "    \n",
    "   "
   ]
  },
  {
   "cell_type": "code",
   "execution_count": 4,
   "id": "65fc792c-0839-43a5-b52f-c211555e4159",
   "metadata": {},
   "outputs": [
    {
     "name": "stdout",
     "output_type": "stream",
     "text": [
      "CPU times: user 1.18 ms, sys: 1 µs, total: 1.18 ms\n",
      "Wall time: 1.19 ms\n"
     ]
    },
    {
     "data": {
      "text/plain": [
       "84911"
      ]
     },
     "execution_count": 4,
     "metadata": {},
     "output_type": "execute_result"
    }
   ],
   "source": [
    "%%time\n",
    "somme = 0\n",
    "for g,l in data.items():\n",
    "    result = count_color(l)\n",
    "    power = list()\n",
    "    for u,v in result.items():\n",
    "         power.append(max(v))\n",
    "\n",
    "    somme+=power[0]*power[1]*power[2]\n",
    "  \n",
    "somme"
   ]
  },
  {
   "cell_type": "code",
   "execution_count": null,
   "id": "863af627-b47e-4777-9438-cff5ce948fa7",
   "metadata": {},
   "outputs": [],
   "source": []
  }
 ],
 "metadata": {
  "kernelspec": {
   "display_name": "Python 3 (ipykernel)",
   "language": "python",
   "name": "python3"
  },
  "language_info": {
   "codemirror_mode": {
    "name": "ipython",
    "version": 3
   },
   "file_extension": ".py",
   "mimetype": "text/x-python",
   "name": "python",
   "nbconvert_exporter": "python",
   "pygments_lexer": "ipython3",
   "version": "3.9.12"
  }
 },
 "nbformat": 4,
 "nbformat_minor": 5
}
