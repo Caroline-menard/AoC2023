{
 "cells": [
  {
   "cell_type": "code",
   "execution_count": 1,
   "id": "5071e06b-54ac-4b77-9999-71ce636f0813",
   "metadata": {},
   "outputs": [],
   "source": [
    "with open(\"day1.txt\") as file:\n",
    "    data_original = file.read().split(\"\\n\")\n",
    "data_original = data_original[:-1]"
   ]
  },
  {
   "cell_type": "code",
   "execution_count": 2,
   "id": "8e86f940-f32f-436e-96f4-8d410346e087",
   "metadata": {},
   "outputs": [],
   "source": [
    "#part1\n",
    "def find_first_digit(liste, reverse=None):\n",
    "    if reverse:\n",
    "        liste = liste[::-1]\n",
    "    for i in liste:\n",
    "        if i.isdigit():\n",
    "            return i\n",
    "        \n"
   ]
  },
  {
   "cell_type": "code",
   "execution_count": 3,
   "id": "c4543b38-2da1-4020-b0ae-060ef88f0c0e",
   "metadata": {
    "tags": []
   },
   "outputs": [
    {
     "name": "stdout",
     "output_type": "stream",
     "text": [
      "54877\n",
      "CPU times: user 2.4 ms, sys: 127 µs, total: 2.53 ms\n",
      "Wall time: 2.46 ms\n"
     ]
    }
   ],
   "source": [
    "%%time\n",
    "somme = 0\n",
    "for i in data_original:\n",
    "    somme += int(find_first_digit(i)+find_first_digit(i,True))\n",
    "print(somme)"
   ]
  },
  {
   "cell_type": "code",
   "execution_count": 4,
   "id": "117a67fd-170d-4ad3-9bf0-787434421780",
   "metadata": {},
   "outputs": [],
   "source": [
    "#part 2\n",
    "\n",
    "number = {'one':1, 'two':2, 'three':3, 'four':4,\n",
    "          'five':5, 'six':6, 'seven':7, 'eight':8, 'nine':9}\n",
    "\n"
   ]
  },
  {
   "cell_type": "code",
   "execution_count": 5,
   "id": "853a7b53-a185-4f98-a169-067f9baa758c",
   "metadata": {},
   "outputs": [],
   "source": [
    "#part 2\n",
    "\n",
    "number = {'one':1, 'two':2, 'three':3, 'four':4,\n",
    "          'five':5, 'six':6, 'seven':7, 'eight':8, 'nine':9}\n",
    "\n",
    "def first_digit(row):\n",
    "    for i in range(len(row)+1):\n",
    "        ligne = row[:i]\n",
    "        if any(x.isdigit() for x in ligne):\n",
    "            for d in ligne:\n",
    "                if d.isdigit():\n",
    "                    return d\n",
    "        if any(n in ligne for n in number.keys()):\n",
    "              for n in number.keys():\n",
    "                    if n in ligne:\n",
    "                        return str(number[n])\n",
    "                    \n",
    "def last_digit(row):\n",
    "    for i in range(1,len(row)+1):\n",
    "        ligne = row[-i:]\n",
    "        if any(x.isdigit() for x in ligne):\n",
    "            for d in ligne:\n",
    "                if d.isdigit():\n",
    "                    return d\n",
    "        if any(n in ligne for n in number.keys()):\n",
    "              for n in number.keys():\n",
    "                    if n in ligne:\n",
    "                        return str(number[n])"
   ]
  },
  {
   "cell_type": "code",
   "execution_count": 6,
   "id": "078e5bd9-9594-4bc9-901d-13a7d21bdb10",
   "metadata": {},
   "outputs": [
    {
     "name": "stdout",
     "output_type": "stream",
     "text": [
      "54100\n",
      "CPU times: user 24.3 ms, sys: 1.39 ms, total: 25.7 ms\n",
      "Wall time: 24.7 ms\n"
     ]
    }
   ],
   "source": [
    "%%time\n",
    "somme2 = 0\n",
    "for i in  data_original:\n",
    "    #print(int(first_digit(i)+last_digit(i)))\n",
    "    somme2 += int(first_digit(i)+last_digit(i))\n",
    "print(somme2)\n"
   ]
  },
  {
   "cell_type": "code",
   "execution_count": null,
   "id": "23d08542-0f4a-4e0b-905d-038ce66f8dba",
   "metadata": {},
   "outputs": [],
   "source": []
  }
 ],
 "metadata": {
  "kernelspec": {
   "display_name": "Python 3 (ipykernel)",
   "language": "python",
   "name": "python3"
  },
  "language_info": {
   "codemirror_mode": {
    "name": "ipython",
    "version": 3
   },
   "file_extension": ".py",
   "mimetype": "text/x-python",
   "name": "python",
   "nbconvert_exporter": "python",
   "pygments_lexer": "ipython3",
   "version": "3.9.12"
  }
 },
 "nbformat": 4,
 "nbformat_minor": 5
}
